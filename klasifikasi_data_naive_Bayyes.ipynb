{
  "nbformat": 4,
  "nbformat_minor": 0,
  "metadata": {
    "colab": {
      "name": "klasifikasi data naive Bayyes.ipynb",
      "provenance": []
    },
    "kernelspec": {
      "name": "python3",
      "display_name": "Python 3"
    },
    "language_info": {
      "name": "python"
    }
  },
  "cells": [
    {
      "cell_type": "code",
      "metadata": {
        "id": "VcAs8u2MCGfO"
      },
      "source": [
        "import numpy as np\n",
        "import matplotlib.pyplot as plt\n",
        "import pandas as pd\n"
      ],
      "execution_count": null,
      "outputs": []
    },
    {
      "cell_type": "code",
      "metadata": {
        "id": "xdZ8lmqUCR28"
      },
      "source": [
        "datasets = pd.read_csv(\"social Network.csv\")\n",
        "x = datasets.iloc[:, [2,3]].values\n",
        "y = datasets.iloc[:,-1].values"
      ],
      "execution_count": null,
      "outputs": []
    },
    {
      "cell_type": "code",
      "metadata": {
        "id": "Xg2TmUmcDIjD"
      },
      "source": [
        "print(x)"
      ],
      "execution_count": null,
      "outputs": []
    },
    {
      "cell_type": "code",
      "metadata": {
        "id": "qXwnLMpJDM8L"
      },
      "source": [
        "print(y)"
      ],
      "execution_count": null,
      "outputs": []
    },
    {
      "cell_type": "code",
      "metadata": {
        "id": "ip5oKAAODQjD"
      },
      "source": [
        "from sklearn.model_selection import train_test_split\n",
        "x_train, x_test y_train, y_test = train_test_split(x,y, test_size=0.25,random_state=0)"
      ],
      "execution_count": null,
      "outputs": []
    },
    {
      "cell_type": "code",
      "metadata": {
        "id": "xUKRoel1EOlf"
      },
      "source": [
        "printn(x_train)"
      ],
      "execution_count": null,
      "outputs": []
    },
    {
      "cell_type": "code",
      "metadata": {
        "id": "wv2thDk5ETcX"
      },
      "source": [
        "print(x_test)"
      ],
      "execution_count": null,
      "outputs": []
    },
    {
      "cell_type": "code",
      "metadata": {
        "id": "J9h2gO1aEgSp"
      },
      "source": [
        "print(y_train)"
      ],
      "execution_count": null,
      "outputs": []
    },
    {
      "cell_type": "code",
      "metadata": {
        "id": "oKFpF8geEjlw"
      },
      "source": [
        "print(y_test)"
      ],
      "execution_count": null,
      "outputs": []
    },
    {
      "cell_type": "code",
      "metadata": {
        "id": "QIN5vJLyEqt-"
      },
      "source": [
        "from sklearn.preprocessing import StandardScaler\n",
        "sc= StandardScaler\n",
        "x_train = sc.fit_transform(x_train)\n",
        "x _test = sc.trsnsform(x_test)"
      ],
      "execution_count": null,
      "outputs": []
    },
    {
      "cell_type": "code",
      "metadata": {
        "id": "gUiMZSLbEyiI"
      },
      "source": [
        "print(x_train)"
      ],
      "execution_count": null,
      "outputs": []
    },
    {
      "cell_type": "code",
      "metadata": {
        "id": "qyt1w_LNFhF7"
      },
      "source": [
        "print(xtest)"
      ],
      "execution_count": null,
      "outputs": []
    },
    {
      "cell_type": "code",
      "metadata": {
        "id": "1rlMDn0oFqB8"
      },
      "source": [
        "from sklearn.naive_bayes import GaussianNB\n",
        "classifier = GaussianNB()\n",
        "classifier.fit(x_train, y_train)"
      ],
      "execution_count": null,
      "outputs": []
    },
    {
      "cell_type": "code",
      "metadata": {
        "id": "jjwb0Xm2GQtE"
      },
      "source": [
        "y_pred = classifier.predict(x-test)\n"
      ],
      "execution_count": null,
      "outputs": []
    },
    {
      "cell_type": "code",
      "metadata": {
        "id": "sT2Y37AiGjjX"
      },
      "source": [
        "from sklearn.metrics import confusion_metrix\n",
        "cm = confusion_metrix(y_test, y-pred)"
      ],
      "execution_count": null,
      "outputs": []
    },
    {
      "cell_type": "code",
      "metadata": {
        "id": "VTxr78n8G8R7"
      },
      "source": [
        "from matplotlib.color impor Listedcolormap\n",
        "x_set, y_set = xtrain, y_train, y_train\n",
        "x1, x2 = np.meshgrid(np.arange(star = X-x_set = [:,0].min()-1, stop = x_set[:,0].MAX() + 1, STE=0),\n",
        "                               np.arange(start = x_set[:,1].min()-1,stop = x_set[:,0].max() + 1, stop=0,01))\n",
        "plt.contourf(x1x2, classifier.predict(np.array([x1.ravel(),x2.ravel()]).T).reshape(x1.shape),\n",
        "             alpha = 0,75, cmap = Listedcolormap(('red','green)))\n",
        "  plt.xlim(x1.min(), x1.max())\n",
        "  plt.ylim(x2.min(), x2.max())\n",
        "  from i, j in enumerate (np.unique(y_set)):\n",
        "  plt.scatter(x_set[y_set == j, o], x_set[y_set == j, 1]\n",
        "              c= Listedcolormap(('red','green'))(1),label = j)\n",
        "  plt.title('Klasifikasi Data dengan Naive Bayyes'(Data Training),)\n",
        "  plt.xlabel('Umur')\n",
        "  plt.ylabel('Estimasi gaji')\n",
        "  plt.legend()\n",
        "  plt.show()"
      ],
      "execution_count": null,
      "outputs": []
    },
    {
      "cell_type": "code",
      "metadata": {
        "id": "4Fh8WbsAPDWX"
      },
      "source": [
        ""
      ],
      "execution_count": null,
      "outputs": []
    }
  ]
}